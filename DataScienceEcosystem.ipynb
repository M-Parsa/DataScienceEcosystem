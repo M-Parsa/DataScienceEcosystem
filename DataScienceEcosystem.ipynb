{
 "cells": [
  {
   "cell_type": "markdown",
   "id": "9fb19d9f-e808-4ffa-812a-e94cda1646c5",
   "metadata": {},
   "source": [
    "# Data Science Tools and Ecosystem"
   ]
  },
  {
   "cell_type": "markdown",
   "id": "24f429f8-671c-4e33-bfdf-c1dfb95c9af5",
   "metadata": {
    "tags": []
   },
   "source": [
    "## Introduction\n",
    "In this notebook, Data Science Tools and Ecosystem are summarized..."
   ]
  },
  {
   "cell_type": "markdown",
   "id": "ca6080be-bef2-40c9-b533-300d84b6031c",
   "metadata": {},
   "source": [
    "**Objective:**\n",
    "- Learning to create Markdown cell for different types of contents.\n",
    "- Listing popular data science languages\n",
    "- Listing popular data science libraries.\n",
    "- Creating a table of Data Science tools.\n",
    "- Evaluating arithmetic expressions in Python."
   ]
  },
  {
   "cell_type": "markdown",
   "id": "5e9dc999-57b6-4dd9-ab57-57a10d93a7ab",
   "metadata": {},
   "source": [
    "Some of the popular languages that Data Scientists use are:\n",
    "1. Python\n",
    "2. R\n",
    "3. SQL\n",
    "4. Julia\n",
    "5. Scala\n",
    "6. Java\n",
    "7. C++\n",
    "8. C"
   ]
  },
  {
   "cell_type": "markdown",
   "id": "6e58b2ba-d126-4f89-85d3-ea18a7f0acb3",
   "metadata": {
    "tags": []
   },
   "source": [
    "Some of the commonly used libraries used by Data Scientists include:\n",
    "1. Pandas\n",
    "2. Numpy\n",
    "3. Matplotlib\n",
    "4. Seaborn\n",
    "5. Scikit-learn\n",
    "6. dplyr\n",
    "7. ggplot\n",
    "8. Stringr\n",
    "9. caret\n",
    "10. SQLite"
   ]
  },
  {
   "cell_type": "markdown",
   "id": "5367521c-cb79-44ef-b34b-8e655600338b",
   "metadata": {},
   "source": [
    "A single column table providing a few popular data science environments aligned left, center and right.\n",
    "\n",
    "| Data Science Tools |\n",
    "|:-------------------|\n",
    "| Jupyter Notebook   |\n",
    "| JupyterLab         |\n",
    "| RStudio            |\n",
    "| Spyder             |\n",
    "\n",
    "| Data Science Tools |\n",
    "|:------------------:|\n",
    "| Jupyter Notebook   |\n",
    "| JupyterLab         |\n",
    "| RStudio            |\n",
    "| Spyder             |\n",
    "\n",
    "| Data Science Tools |\n",
    "|-------------------:|\n",
    "| Jupyter Notebook   |\n",
    "| JupyterLab         |\n",
    "| RStudio            |\n",
    "| Spyder             |"
   ]
  },
  {
   "cell_type": "markdown",
   "id": "35a889cb-2e67-48a5-afa4-55212c430df2",
   "metadata": {},
   "source": [
    "### Below are a few examples of evaluating arithmetic expressions in Python"
   ]
  },
  {
   "cell_type": "code",
   "execution_count": 5,
   "id": "b886d646-82ac-4b2d-ba93-4df8d8db0226",
   "metadata": {
    "tags": []
   },
   "outputs": [
    {
     "data": {
      "text/plain": [
       "17"
      ]
     },
     "execution_count": 5,
     "metadata": {},
     "output_type": "execute_result"
    }
   ],
   "source": [
    "# This a simple arithmetic expression to mutiply then add integers\n",
    "(3*4)+5"
   ]
  },
  {
   "cell_type": "code",
   "execution_count": 6,
   "id": "14bce50f-0125-4f2d-a9ca-45b12ad34b21",
   "metadata": {
    "tags": []
   },
   "outputs": [
    {
     "data": {
      "text/plain": [
       "3.3333333333333335"
      ]
     },
     "execution_count": 6,
     "metadata": {},
     "output_type": "execute_result"
    }
   ],
   "source": [
    "# This will convert 200 minutes to hours by diving by 60\n",
    "200/60"
   ]
  },
  {
   "cell_type": "markdown",
   "id": "d31c119a-18a2-4b0e-b26c-482abbc26667",
   "metadata": {
    "tags": []
   },
   "source": [
    "## Author\n",
    "Mirwais Parsa"
   ]
  }
 ],
 "metadata": {
  "kernelspec": {
   "display_name": "Python 3 (ipykernel)",
   "language": "python",
   "name": "python3"
  },
  "language_info": {
   "codemirror_mode": {
    "name": "ipython",
    "version": 3
   },
   "file_extension": ".py",
   "mimetype": "text/x-python",
   "name": "python",
   "nbconvert_exporter": "python",
   "pygments_lexer": "ipython3",
   "version": "3.9.13"
  }
 },
 "nbformat": 4,
 "nbformat_minor": 5
}
